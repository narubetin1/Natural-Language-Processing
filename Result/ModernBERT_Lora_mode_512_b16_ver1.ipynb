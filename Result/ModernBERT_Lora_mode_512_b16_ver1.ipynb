{
 "cells": [
  {
   "cell_type": "markdown",
   "id": "d92acd01",
   "metadata": {},
   "source": [
    "# Import model"
   ]
  },
  {
   "cell_type": "code",
   "execution_count": 1,
   "id": "4550d9af",
   "metadata": {},
   "outputs": [],
   "source": [
    "model_path = 'C:/Users/Lenovo/Desktop/NLP/Final_project/test_run_model/fine_tuned_ModernBERT_Lora_512_b16_ver1_imdb'\n",
    "\n",
    "from transformers import AutoTokenizer, AutoModelForSequenceClassification\n",
    "\n",
    "tokenizer = AutoTokenizer.from_pretrained(model_path)\n",
    "model = AutoModelForSequenceClassification.from_pretrained(model_path)"
   ]
  },
  {
   "cell_type": "code",
   "execution_count": 2,
   "id": "b42eb75d",
   "metadata": {},
   "outputs": [
    {
     "data": {
      "text/html": [
       "<div>\n",
       "<style scoped>\n",
       "    .dataframe tbody tr th:only-of-type {\n",
       "        vertical-align: middle;\n",
       "    }\n",
       "\n",
       "    .dataframe tbody tr th {\n",
       "        vertical-align: top;\n",
       "    }\n",
       "\n",
       "    .dataframe thead th {\n",
       "        text-align: right;\n",
       "    }\n",
       "</style>\n",
       "<table border=\"1\" class=\"dataframe\">\n",
       "  <thead>\n",
       "    <tr style=\"text-align: right;\">\n",
       "      <th></th>\n",
       "      <th>sentiment</th>\n",
       "      <th>review</th>\n",
       "    </tr>\n",
       "  </thead>\n",
       "  <tbody>\n",
       "    <tr>\n",
       "      <th>0</th>\n",
       "      <td>Negative</td>\n",
       "      <td>I had no background knowledge of this movie be...</td>\n",
       "    </tr>\n",
       "    <tr>\n",
       "      <th>1</th>\n",
       "      <td>Negative</td>\n",
       "      <td>I am a huge Jane Austen fan and I ordered the ...</td>\n",
       "    </tr>\n",
       "    <tr>\n",
       "      <th>2</th>\n",
       "      <td>Negative</td>\n",
       "      <td>Nothing to say but Wow! Has anyone actually ha...</td>\n",
       "    </tr>\n",
       "    <tr>\n",
       "      <th>3</th>\n",
       "      <td>Negative</td>\n",
       "      <td>i like Jane Austin novels. I love Pride and Pr...</td>\n",
       "    </tr>\n",
       "    <tr>\n",
       "      <th>4</th>\n",
       "      <td>Negative</td>\n",
       "      <td>In this day and age of incredible special movi...</td>\n",
       "    </tr>\n",
       "    <tr>\n",
       "      <th>5</th>\n",
       "      <td>Negative</td>\n",
       "      <td>Becky Harris plays the female shopper whose mi...</td>\n",
       "    </tr>\n",
       "    <tr>\n",
       "      <th>6</th>\n",
       "      <td>Negative</td>\n",
       "      <td>Watching TRUTH ABOUT LOVE (is this a double en...</td>\n",
       "    </tr>\n",
       "    <tr>\n",
       "      <th>7</th>\n",
       "      <td>Negative</td>\n",
       "      <td>A painfully protracted, maudlin and predictabl...</td>\n",
       "    </tr>\n",
       "    <tr>\n",
       "      <th>8</th>\n",
       "      <td>Negative</td>\n",
       "      <td>Let's be honest. As a film school project, mad...</td>\n",
       "    </tr>\n",
       "    <tr>\n",
       "      <th>9</th>\n",
       "      <td>Negative</td>\n",
       "      <td>A terrible movie as everyone has said. What ma...</td>\n",
       "    </tr>\n",
       "  </tbody>\n",
       "</table>\n",
       "</div>"
      ],
      "text/plain": [
       "  sentiment                                             review\n",
       "0  Negative  I had no background knowledge of this movie be...\n",
       "1  Negative  I am a huge Jane Austen fan and I ordered the ...\n",
       "2  Negative  Nothing to say but Wow! Has anyone actually ha...\n",
       "3  Negative  i like Jane Austin novels. I love Pride and Pr...\n",
       "4  Negative  In this day and age of incredible special movi...\n",
       "5  Negative  Becky Harris plays the female shopper whose mi...\n",
       "6  Negative  Watching TRUTH ABOUT LOVE (is this a double en...\n",
       "7  Negative  A painfully protracted, maudlin and predictabl...\n",
       "8  Negative  Let's be honest. As a film school project, mad...\n",
       "9  Negative  A terrible movie as everyone has said. What ma..."
      ]
     },
     "execution_count": 2,
     "metadata": {},
     "output_type": "execute_result"
    }
   ],
   "source": [
    "import pandas as pd\n",
    "df = pd.read_csv(\"C:/Users/Lenovo/Desktop/NLP/Final_project/unseen_review/review.csv\")\n",
    "\n",
    "df.head(10)"
   ]
  },
  {
   "cell_type": "code",
   "execution_count": 3,
   "id": "aa9e17f1",
   "metadata": {},
   "outputs": [
    {
     "name": "stdout",
     "output_type": "stream",
     "text": [
      "✅ Using device: cuda\n"
     ]
    },
    {
     "name": "stderr",
     "output_type": "stream",
     "text": [
      "100%|██████████| 1250/1250 [08:38<00:00,  2.41it/s]"
     ]
    },
    {
     "name": "stdout",
     "output_type": "stream",
     "text": [
      "\n",
      " Accuracy: 96.77%\n",
      "\n",
      "=== Classification Report ===\n",
      "              precision    recall  f1-score   support\n",
      "\n",
      "    negative       0.97      0.97      0.97      5081\n",
      "    positive       0.97      0.97      0.97      4919\n",
      "\n",
      "    accuracy                           0.97     10000\n",
      "   macro avg       0.97      0.97      0.97     10000\n",
      "weighted avg       0.97      0.97      0.97     10000\n",
      "\n",
      "\n",
      "=== Sample Predictions (first 10) ===\n",
      "Review: I had no background knowledge of this movie before I bought it, but it sounded c...\n",
      "  ✅ True: Negative | 🔮 Predicted: negative\n",
      "\n",
      "Review: I am a huge Jane Austen fan and I ordered the movie from Amazon.UK just so I cou...\n",
      "  ✅ True: Negative | 🔮 Predicted: negative\n",
      "\n",
      "Review: Nothing to say but Wow! Has anyone actually had somebody sneak up on them in an ...\n",
      "  ✅ True: Negative | 🔮 Predicted: negative\n",
      "\n",
      "Review: i like Jane Austin novels. I love Pride and Prejudice and Sense and Sensibility ...\n",
      "  ✅ True: Negative | 🔮 Predicted: negative\n",
      "\n",
      "Review: In this day and age of incredible special movie effects, this one was a sore dis...\n",
      "  ✅ True: Negative | 🔮 Predicted: negative\n",
      "\n",
      "Review: Becky Harris plays the female shopper whose misfortune it is to be in the store ...\n",
      "  ✅ True: Negative | 🔮 Predicted: negative\n",
      "\n",
      "Review: Watching TRUTH ABOUT LOVE (is this a double entendre about the star?) is like pl...\n",
      "  ✅ True: Negative | 🔮 Predicted: negative\n",
      "\n",
      "Review: A painfully protracted, maudlin and predictable drama, my twenty-fifth Sidney Lu...\n",
      "  ✅ True: Negative | 🔮 Predicted: negative\n",
      "\n",
      "Review: Let's be honest. As a film school project, made without budget and 'real' actors...\n",
      "  ✅ True: Negative | 🔮 Predicted: negative\n",
      "\n",
      "Review: A terrible movie as everyone has said. What made me laugh was the cameo appearan...\n",
      "  ✅ True: Negative | 🔮 Predicted: negative\n",
      "\n"
     ]
    },
    {
     "name": "stderr",
     "output_type": "stream",
     "text": [
      "\n"
     ]
    }
   ],
   "source": [
    "import pandas as pd\n",
    "import torch\n",
    "from sklearn.metrics import accuracy_score, classification_report\n",
    "from tqdm import tqdm  # progress bar\n",
    "\n",
    "BATCH_SIZE = 8  # ✅ ปรับตาม VRAM\n",
    "\n",
    "# ✅ เลือกอุปกรณ์ (GPU ถ้ามี, ถ้าไม่มีใช้ CPU)\n",
    "device = torch.device(\"cuda\" if torch.cuda.is_available() else \"cpu\")\n",
    "print(f\"✅ Using device: {device}\")\n",
    "\n",
    "# ✅ ย้ายโมเดลไป GPU\n",
    "model = model.to(device)\n",
    "\n",
    "# ✅ โหลด CSV\n",
    "df = pd.read_csv(\"C:/Users/Lenovo/Desktop/NLP/Final_project/unseen_review/review.csv\")\n",
    "\n",
    "\n",
    "all_pred_labels = []\n",
    "\n",
    "# ✅ predict แบบ batch\n",
    "for i in tqdm(range(0, len(df), BATCH_SIZE)):\n",
    "    batch_texts = df[\"review\"].iloc[i:i+BATCH_SIZE].tolist()\n",
    "    \n",
    "    # ✅ tokenize + ส่งไป GPU\n",
    "    inputs = tokenizer(batch_texts, padding=True, truncation=True, return_tensors=\"pt\").to(device)\n",
    "    \n",
    "    # ✅ predict\n",
    "    with torch.no_grad():  \n",
    "        outputs = model(**inputs)\n",
    "        probs = torch.nn.functional.softmax(outputs.logits, dim=-1)\n",
    "        batch_preds = probs.argmax(axis=1).cpu().numpy()  # ✅ กลับ CPU เพื่อเก็บ\n",
    "    \n",
    "    all_pred_labels.extend(batch_preds)\n",
    "\n",
    "# ✅ เพิ่มผลลัพธ์เข้า DataFrame\n",
    "df[\"predicted_label\"] = all_pred_labels\n",
    "df[\"predicted_sentiment\"] = [\"positive\" if p == 1 else \"negative\" for p in all_pred_labels]\n",
    "\n",
    "# ✅ แปลง label จริงเป็น 0/1\n",
    "if \"sentiment\" in df.columns:  # ถ้ามี label จริง\n",
    "    if df[\"sentiment\"].dtype == object:  \n",
    "        df[\"true_label\"] = df[\"sentiment\"].apply(lambda x: 1 if x.lower()==\"positive\" else 0)\n",
    "    else:\n",
    "        df[\"true_label\"] = df[\"sentiment\"]\n",
    "\n",
    "    # ✅ คำนวณ Accuracy\n",
    "    acc = accuracy_score(df[\"true_label\"], df[\"predicted_label\"])\n",
    "    print(f\"\\n Accuracy: {acc*100:.2f}%\")\n",
    "\n",
    "    # ✅ Precision / Recall / F1\n",
    "    print(\"\\n=== Classification Report ===\")\n",
    "    print(classification_report(df[\"true_label\"], df[\"predicted_label\"], target_names=[\"negative\", \"positive\"]))\n",
    "else:\n",
    "    print(\"\\n No ground-truth labels found, skipping accuracy calculation\")\n",
    "\n",
    "# ✅ แสดงตัวอย่าง 10 row แรก\n",
    "print(\"\\n=== Sample Predictions (first 10) ===\")\n",
    "for _, row in df.head(10).iterrows():\n",
    "    print(f\"Review: {row['review'][:80]}...\")\n",
    "    if \"sentiment\" in df.columns:\n",
    "        print(f\"  ✅ True: {row['sentiment']} | 🔮 Predicted: {row['predicted_sentiment']}\\n\")\n",
    "    else:\n",
    "        print(f\"  🔮 Predicted: {row['predicted_sentiment']}\\n\")\n",
    "\n"
   ]
  },
  {
   "cell_type": "code",
   "execution_count": 4,
   "id": "618653ba",
   "metadata": {},
   "outputs": [
    {
     "name": "stdout",
     "output_type": "stream",
     "text": [
      "\n",
      "✅ Saved predictions to reviews_with_predictions_model >> Done\n"
     ]
    }
   ],
   "source": [
    "# ✅ บันทึกผลลัพธ์\n",
    "df.to_csv(\"C:/Users/Lenovo/Desktop/NLP/Final_project/prediction_result/reviews_with_predictions_ModernBERT_Lora_mode_512_b16_ver1_full.csv\", index=False)\n",
    "print(\"\\n✅ Saved predictions to reviews_with_predictions_model >> Done\")\n"
   ]
  },
  {
   "cell_type": "code",
   "execution_count": null,
   "id": "024a043f",
   "metadata": {},
   "outputs": [],
   "source": []
  }
 ],
 "metadata": {
  "kernelspec": {
   "display_name": "base",
   "language": "python",
   "name": "python3"
  },
  "language_info": {
   "codemirror_mode": {
    "name": "ipython",
    "version": 3
   },
   "file_extension": ".py",
   "mimetype": "text/x-python",
   "name": "python",
   "nbconvert_exporter": "python",
   "pygments_lexer": "ipython3",
   "version": "3.12.3"
  }
 },
 "nbformat": 4,
 "nbformat_minor": 5
}
